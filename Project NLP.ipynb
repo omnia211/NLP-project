{
 "cells": [
  {
   "cell_type": "markdown",
   "id": "c79984ff",
   "metadata": {},
   "source": [
    "# Import Libraries"
   ]
  },
  {
   "cell_type": "code",
   "execution_count": 71,
   "id": "3152c285",
   "metadata": {},
   "outputs": [],
   "source": [
    "import pandas as pd\n",
    "import numpy as np\n",
    "import matplotlib.pyplot as plt\n",
    "import seaborn as sns\n",
    "import string , re\n",
    "from nltk.corpus import stopwords\n",
    "from nltk.stem.isri import ISRIStemmer\n",
    "from sklearn.model_selection import train_test_split\n",
    "from keras.preprocessing.text import Tokenizer\n",
    "from tensorflow.keras.preprocessing.sequence import pad_sequences\n",
    "from keras.models import Sequential\n",
    "from keras.layers import Embedding, LSTM, Dense, Dropout"
   ]
  },
  {
   "cell_type": "markdown",
   "id": "22443831",
   "metadata": {},
   "source": [
    "# Load Data"
   ]
  },
  {
   "cell_type": "code",
   "execution_count": 2,
   "id": "926582ca",
   "metadata": {},
   "outputs": [
    {
     "data": {
      "text/html": [
       "<div>\n",
       "<style scoped>\n",
       "    .dataframe tbody tr th:only-of-type {\n",
       "        vertical-align: middle;\n",
       "    }\n",
       "\n",
       "    .dataframe tbody tr th {\n",
       "        vertical-align: top;\n",
       "    }\n",
       "\n",
       "    .dataframe thead th {\n",
       "        text-align: right;\n",
       "    }\n",
       "</style>\n",
       "<table border=\"1\" class=\"dataframe\">\n",
       "  <thead>\n",
       "    <tr style=\"text-align: right;\">\n",
       "      <th></th>\n",
       "      <th>id_question</th>\n",
       "      <th>stu_answer</th>\n",
       "      <th>grade</th>\n",
       "    </tr>\n",
       "  </thead>\n",
       "  <tbody>\n",
       "    <tr>\n",
       "      <th>0</th>\n",
       "      <td>18</td>\n",
       "      <td>ز</td>\n",
       "      <td>0</td>\n",
       "    </tr>\n",
       "    <tr>\n",
       "      <th>1</th>\n",
       "      <td>18</td>\n",
       "      <td>جبرائيل</td>\n",
       "      <td>1</td>\n",
       "    </tr>\n",
       "    <tr>\n",
       "      <th>2</th>\n",
       "      <td>18</td>\n",
       "      <td>جبريل</td>\n",
       "      <td>2</td>\n",
       "    </tr>\n",
       "    <tr>\n",
       "      <th>3</th>\n",
       "      <td>18</td>\n",
       "      <td>جبريل عليه السلام</td>\n",
       "      <td>2</td>\n",
       "    </tr>\n",
       "    <tr>\n",
       "      <th>4</th>\n",
       "      <td>18</td>\n",
       "      <td>سيدنا جبريل عليه السلام</td>\n",
       "      <td>2</td>\n",
       "    </tr>\n",
       "    <tr>\n",
       "      <th>5</th>\n",
       "      <td>18</td>\n",
       "      <td>جبريل عليه السلام\\n</td>\n",
       "      <td>2</td>\n",
       "    </tr>\n",
       "    <tr>\n",
       "      <th>6</th>\n",
       "      <td>18</td>\n",
       "      <td>إسم الملك الذي جاء بالوحي إلى رسول الله صلى ال...</td>\n",
       "      <td>2</td>\n",
       "    </tr>\n",
       "    <tr>\n",
       "      <th>7</th>\n",
       "      <td>18</td>\n",
       "      <td>جبريل عليه السلام</td>\n",
       "      <td>2</td>\n",
       "    </tr>\n",
       "    <tr>\n",
       "      <th>8</th>\n",
       "      <td>18</td>\n",
       "      <td>جبريل عليه السلام</td>\n",
       "      <td>2</td>\n",
       "    </tr>\n",
       "    <tr>\n",
       "      <th>9</th>\n",
       "      <td>18</td>\n",
       "      <td>جبريل</td>\n",
       "      <td>2</td>\n",
       "    </tr>\n",
       "  </tbody>\n",
       "</table>\n",
       "</div>"
      ],
      "text/plain": [
       "   id_question                                         stu_answer  grade\n",
       "0           18                                                  ز      0\n",
       "1           18                                            جبرائيل      1\n",
       "2           18                                              جبريل      2\n",
       "3           18                                  جبريل عليه السلام      2\n",
       "4           18                            سيدنا جبريل عليه السلام      2\n",
       "5           18                               جبريل عليه السلام\\n       2\n",
       "6           18  إسم الملك الذي جاء بالوحي إلى رسول الله صلى ال...      2\n",
       "7           18                                  جبريل عليه السلام      2\n",
       "8           18                                  جبريل عليه السلام      2\n",
       "9           18                                              جبريل      2"
      ]
     },
     "execution_count": 2,
     "metadata": {},
     "output_type": "execute_result"
    }
   ],
   "source": [
    "# read csv file into pandas\n",
    "df = pd.read_csv(\"stu-answers.csv\")\n",
    "df.head(10)"
   ]
  },
  {
   "cell_type": "markdown",
   "id": "2b9a1e3b",
   "metadata": {},
   "source": [
    "# EDA"
   ]
  },
  {
   "cell_type": "markdown",
   "id": "1b83c41d",
   "metadata": {},
   "source": [
    "### Check Size of Data"
   ]
  },
  {
   "cell_type": "code",
   "execution_count": 4,
   "id": "289ac5c3",
   "metadata": {},
   "outputs": [
    {
     "name": "stdout",
     "output_type": "stream",
     "text": [
      "Number of Rows : 1260\n",
      "Number of Columns : 3\n"
     ]
    }
   ],
   "source": [
    "print(f'Number of Rows : {df.shape[0]}')\n",
    "print(f'Number of Columns : {df.shape[1]}')"
   ]
  },
  {
   "cell_type": "markdown",
   "id": "a39fb7c4",
   "metadata": {},
   "source": [
    "### Check Missing Values"
   ]
  },
  {
   "cell_type": "code",
   "execution_count": 5,
   "id": "56ab0107",
   "metadata": {},
   "outputs": [
    {
     "data": {
      "text/plain": [
       "id_question     0\n",
       "stu_answer     76\n",
       "grade           0\n",
       "dtype: int64"
      ]
     },
     "execution_count": 5,
     "metadata": {},
     "output_type": "execute_result"
    }
   ],
   "source": [
    "df.isna().sum()"
   ]
  },
  {
   "cell_type": "markdown",
   "id": "a7bac2c6",
   "metadata": {},
   "source": [
    "### Check Dublication"
   ]
  },
  {
   "cell_type": "code",
   "execution_count": 6,
   "id": "6c9ea4d2",
   "metadata": {},
   "outputs": [
    {
     "data": {
      "text/plain": [
       "385"
      ]
     },
     "execution_count": 6,
     "metadata": {},
     "output_type": "execute_result"
    }
   ],
   "source": [
    "df.duplicated().sum()"
   ]
  },
  {
   "cell_type": "markdown",
   "id": "a1e5af72",
   "metadata": {},
   "source": [
    "## Visualize Target "
   ]
  },
  {
   "cell_type": "code",
   "execution_count": 7,
   "id": "33e924a8",
   "metadata": {},
   "outputs": [
    {
     "data": {
      "image/png": "[encoded data removed]",
      "text/plain": [
       "<Figure size 720x432 with 1 Axes>"
      ]
     },
     "metadata": {},
     "output_type": "display_data"
    }
   ],
   "source": [
    "plt.figure(figsize=(10,6))\n",
    "df['grade'].value_counts().plot.pie(autopct='%2.f%%')\n",
    "center = plt.Circle((0,0), 0.7, fc='white')\n",
    "fig = plt.gcf()\n",
    "fig.gca().add_artist(center)\n",
    "plt.legend(bbox_to_anchor=(1,1),loc=2)\n",
    "plt. show()"
   ]
  },
  {
   "cell_type": "markdown",
   "id": "d2341bfc",
   "metadata": {},
   "source": [
    "### Drop Unnecessary Columns"
   ]
  },
  {
   "cell_type": "code",
   "execution_count": 8,
   "id": "7b2149f6",
   "metadata": {},
   "outputs": [],
   "source": [
    "df.drop('id_question', axis=1, inplace=True)"
   ]
  },
  {
   "cell_type": "markdown",
   "id": "14f789ca",
   "metadata": {},
   "source": [
    "### Drop Missing and Dublication Values"
   ]
  },
  {
   "cell_type": "code",
   "execution_count": 9,
   "id": "f97aa70c",
   "metadata": {},
   "outputs": [],
   "source": [
    "df.dropna(inplace=True)"
   ]
  },
  {
   "cell_type": "code",
   "execution_count": 10,
   "id": "201caca8",
   "metadata": {},
   "outputs": [],
   "source": [
    "df.drop_duplicates(inplace=True)"
   ]
  },
  {
   "cell_type": "code",
   "execution_count": 11,
   "id": "061e3351",
   "metadata": {},
   "outputs": [
    {
     "name": "stdout",
     "output_type": "stream",
     "text": [
      "Number of Rows : 855\n",
      "Number of Columns : 2\n"
     ]
    }
   ],
   "source": [
    "print(f'Number of Rows : {df.shape[0]}')\n",
    "print(f'Number of Columns : {df.shape[1]}')"
   ]
  },
  {
   "cell_type": "code",
   "execution_count": 12,
   "id": "06ce7567",
   "metadata": {},
   "outputs": [
    {
     "data": {
      "text/html": [
       "<div>\n",
       "<style scoped>\n",
       "    .dataframe tbody tr th:only-of-type {\n",
       "        vertical-align: middle;\n",
       "    }\n",
       "\n",
       "    .dataframe tbody tr th {\n",
       "        vertical-align: top;\n",
       "    }\n",
       "\n",
       "    .dataframe thead th {\n",
       "        text-align: right;\n",
       "    }\n",
       "</style>\n",
       "<table border=\"1\" class=\"dataframe\">\n",
       "  <thead>\n",
       "    <tr style=\"text-align: right;\">\n",
       "      <th></th>\n",
       "      <th>stu_answer</th>\n",
       "      <th>grade</th>\n",
       "    </tr>\n",
       "  </thead>\n",
       "  <tbody>\n",
       "    <tr>\n",
       "      <th>0</th>\n",
       "      <td>ز</td>\n",
       "      <td>0</td>\n",
       "    </tr>\n",
       "    <tr>\n",
       "      <th>1</th>\n",
       "      <td>جبرائيل</td>\n",
       "      <td>1</td>\n",
       "    </tr>\n",
       "    <tr>\n",
       "      <th>2</th>\n",
       "      <td>جبريل</td>\n",
       "      <td>2</td>\n",
       "    </tr>\n",
       "    <tr>\n",
       "      <th>3</th>\n",
       "      <td>جبريل عليه السلام</td>\n",
       "      <td>2</td>\n",
       "    </tr>\n",
       "    <tr>\n",
       "      <th>4</th>\n",
       "      <td>سيدنا جبريل عليه السلام</td>\n",
       "      <td>2</td>\n",
       "    </tr>\n",
       "  </tbody>\n",
       "</table>\n",
       "</div>"
      ],
      "text/plain": [
       "                stu_answer  grade\n",
       "0                        ز      0\n",
       "1                  جبرائيل      1\n",
       "2                    جبريل      2\n",
       "3        جبريل عليه السلام      2\n",
       "4  سيدنا جبريل عليه السلام      2"
      ]
     },
     "execution_count": 12,
     "metadata": {},
     "output_type": "execute_result"
    }
   ],
   "source": [
    "df.head()"
   ]
  },
  {
   "cell_type": "code",
   "execution_count": 13,
   "id": "c32f5089",
   "metadata": {},
   "outputs": [
    {
     "data": {
      "text/html": [
       "<div>\n",
       "<style scoped>\n",
       "    .dataframe tbody tr th:only-of-type {\n",
       "        vertical-align: middle;\n",
       "    }\n",
       "\n",
       "    .dataframe tbody tr th {\n",
       "        vertical-align: top;\n",
       "    }\n",
       "\n",
       "    .dataframe thead th {\n",
       "        text-align: right;\n",
       "    }\n",
       "</style>\n",
       "<table border=\"1\" class=\"dataframe\">\n",
       "  <thead>\n",
       "    <tr style=\"text-align: right;\">\n",
       "      <th></th>\n",
       "      <th>stu_answer</th>\n",
       "      <th>grade</th>\n",
       "      <th>length</th>\n",
       "    </tr>\n",
       "  </thead>\n",
       "  <tbody>\n",
       "    <tr>\n",
       "      <th>0</th>\n",
       "      <td>ز</td>\n",
       "      <td>0</td>\n",
       "      <td>1</td>\n",
       "    </tr>\n",
       "    <tr>\n",
       "      <th>1</th>\n",
       "      <td>جبرائيل</td>\n",
       "      <td>1</td>\n",
       "      <td>7</td>\n",
       "    </tr>\n",
       "    <tr>\n",
       "      <th>2</th>\n",
       "      <td>جبريل</td>\n",
       "      <td>2</td>\n",
       "      <td>5</td>\n",
       "    </tr>\n",
       "    <tr>\n",
       "      <th>3</th>\n",
       "      <td>جبريل عليه السلام</td>\n",
       "      <td>2</td>\n",
       "      <td>17</td>\n",
       "    </tr>\n",
       "    <tr>\n",
       "      <th>4</th>\n",
       "      <td>سيدنا جبريل عليه السلام</td>\n",
       "      <td>2</td>\n",
       "      <td>23</td>\n",
       "    </tr>\n",
       "  </tbody>\n",
       "</table>\n",
       "</div>"
      ],
      "text/plain": [
       "                stu_answer  grade  length\n",
       "0                        ز      0       1\n",
       "1                  جبرائيل      1       7\n",
       "2                    جبريل      2       5\n",
       "3        جبريل عليه السلام      2      17\n",
       "4  سيدنا جبريل عليه السلام      2      23"
      ]
     },
     "execution_count": 13,
     "metadata": {},
     "output_type": "execute_result"
    }
   ],
   "source": [
    "#analyze the total length of each message\n",
    "df['length'] = df['stu_answer'].apply(len)\n",
    "df.head()"
   ]
  },
  {
   "cell_type": "code",
   "execution_count": 14,
   "id": "467b8a6f",
   "metadata": {},
   "outputs": [
    {
     "data": {
      "text/plain": [
       "311"
      ]
     },
     "execution_count": 14,
     "metadata": {},
     "output_type": "execute_result"
    }
   ],
   "source": [
    "df['length'].max()"
   ]
  },
  {
   "cell_type": "code",
   "execution_count": 15,
   "id": "6452f31c",
   "metadata": {},
   "outputs": [],
   "source": [
    "# print(stopwords.words('arabic'))"
   ]
  },
  {
   "cell_type": "code",
   "execution_count": 16,
   "id": "60c0aefb",
   "metadata": {},
   "outputs": [],
   "source": [
    "# print(string.punctuation)"
   ]
  },
  {
   "cell_type": "markdown",
   "id": "3b190660",
   "metadata": {},
   "source": [
    "# Pre-Preocessing"
   ]
  },
  {
   "cell_type": "code",
   "execution_count": 17,
   "id": "71499d85",
   "metadata": {},
   "outputs": [],
   "source": [
    "def txt_preprocess(text):\n",
    "    \n",
    "    stpword = stopwords.words('arabic')\n",
    "    \n",
    "    #check if there are any punctuation\n",
    "    nopunc = [char for char in text if char not in string.punctuation]\n",
    "\n",
    "    #join the chars\n",
    "    nopunc = ''.join(nopunc)\n",
    "    \n",
    "    #remove any stopwords\n",
    "    clean_stopwords = [word for word in nopunc.split() if word not in stpword]\n",
    "    clean_words = \"\"\n",
    "    \n",
    "    #stemming\n",
    "    for x in clean_stopwords:\n",
    "        stemmer = ISRIStemmer()\n",
    "        clean_words += (stemmer.stem(x)) + \" \"\n",
    "        \n",
    "    return clean_words"
   ]
  },
  {
   "cell_type": "code",
   "execution_count": 18,
   "id": "bc9f4df5",
   "metadata": {},
   "outputs": [],
   "source": [
    "df['answer_cleaned'] = df['stu_answer'].apply(txt_preprocess)"
   ]
  },
  {
   "cell_type": "code",
   "execution_count": 19,
   "id": "b6932394",
   "metadata": {
    "scrolled": false
   },
   "outputs": [
    {
     "data": {
      "text/html": [
       "<div>\n",
       "<style scoped>\n",
       "    .dataframe tbody tr th:only-of-type {\n",
       "        vertical-align: middle;\n",
       "    }\n",
       "\n",
       "    .dataframe tbody tr th {\n",
       "        vertical-align: top;\n",
       "    }\n",
       "\n",
       "    .dataframe thead th {\n",
       "        text-align: right;\n",
       "    }\n",
       "</style>\n",
       "<table border=\"1\" class=\"dataframe\">\n",
       "  <thead>\n",
       "    <tr style=\"text-align: right;\">\n",
       "      <th></th>\n",
       "      <th>stu_answer</th>\n",
       "      <th>grade</th>\n",
       "      <th>length</th>\n",
       "      <th>answer_cleaned</th>\n",
       "    </tr>\n",
       "  </thead>\n",
       "  <tbody>\n",
       "    <tr>\n",
       "      <th>0</th>\n",
       "      <td>ز</td>\n",
       "      <td>0</td>\n",
       "      <td>1</td>\n",
       "      <td></td>\n",
       "    </tr>\n",
       "    <tr>\n",
       "      <th>1</th>\n",
       "      <td>جبرائيل</td>\n",
       "      <td>1</td>\n",
       "      <td>7</td>\n",
       "      <td>جبرائيل</td>\n",
       "    </tr>\n",
       "    <tr>\n",
       "      <th>2</th>\n",
       "      <td>جبريل</td>\n",
       "      <td>2</td>\n",
       "      <td>5</td>\n",
       "      <td>جبريل</td>\n",
       "    </tr>\n",
       "    <tr>\n",
       "      <th>3</th>\n",
       "      <td>جبريل عليه السلام</td>\n",
       "      <td>2</td>\n",
       "      <td>17</td>\n",
       "      <td>جبريل سلم</td>\n",
       "    </tr>\n",
       "    <tr>\n",
       "      <th>4</th>\n",
       "      <td>سيدنا جبريل عليه السلام</td>\n",
       "      <td>2</td>\n",
       "      <td>23</td>\n",
       "      <td>سيد جبريل سلم</td>\n",
       "    </tr>\n",
       "    <tr>\n",
       "      <th>5</th>\n",
       "      <td>جبريل عليه السلام\\n</td>\n",
       "      <td>2</td>\n",
       "      <td>19</td>\n",
       "      <td>جبريل سلم</td>\n",
       "    </tr>\n",
       "    <tr>\n",
       "      <th>6</th>\n",
       "      <td>إسم الملك الذي جاء بالوحي إلى رسول الله صلى ال...</td>\n",
       "      <td>2</td>\n",
       "      <td>79</td>\n",
       "      <td>اسم ملك جاء وحي رسل الل صلى الل سلم جبريل سلم</td>\n",
       "    </tr>\n",
       "    <tr>\n",
       "      <th>19</th>\n",
       "      <td>سيدنا جبريل</td>\n",
       "      <td>2</td>\n",
       "      <td>11</td>\n",
       "      <td>سيد جبريل</td>\n",
       "    </tr>\n",
       "    <tr>\n",
       "      <th>20</th>\n",
       "      <td>جبريل عليه السلام\\n</td>\n",
       "      <td>2</td>\n",
       "      <td>18</td>\n",
       "      <td>جبريل سلم</td>\n",
       "    </tr>\n",
       "    <tr>\n",
       "      <th>21</th>\n",
       "      <td>اسم  الملك المكلف بالوحي هو جبريل عليه السلام</td>\n",
       "      <td>2</td>\n",
       "      <td>45</td>\n",
       "      <td>اسم ملك كلف وحي جبريل سلم</td>\n",
       "    </tr>\n",
       "    <tr>\n",
       "      <th>25</th>\n",
       "      <td>جبريل عليه اليلام</td>\n",
       "      <td>2</td>\n",
       "      <td>17</td>\n",
       "      <td>جبريل يلم</td>\n",
       "    </tr>\n",
       "    <tr>\n",
       "      <th>28</th>\n",
       "      <td>الملك جبريل</td>\n",
       "      <td>2</td>\n",
       "      <td>11</td>\n",
       "      <td>ملك جبريل</td>\n",
       "    </tr>\n",
       "    <tr>\n",
       "      <th>35</th>\n",
       "      <td>_ سيدنا جبريل.</td>\n",
       "      <td>2</td>\n",
       "      <td>14</td>\n",
       "      <td>سيد جبريل</td>\n",
       "    </tr>\n",
       "    <tr>\n",
       "      <th>38</th>\n",
       "      <td>إسم الملك هو جبريل</td>\n",
       "      <td>2</td>\n",
       "      <td>18</td>\n",
       "      <td>اسم ملك جبريل</td>\n",
       "    </tr>\n",
       "    <tr>\n",
       "      <th>40</th>\n",
       "      <td>جبريل عليه السلام.</td>\n",
       "      <td>2</td>\n",
       "      <td>18</td>\n",
       "      <td>جبريل سلم</td>\n",
       "    </tr>\n",
       "    <tr>\n",
       "      <th>49</th>\n",
       "      <td>أسم  الملك الذي جاء بالوحي هو جبريل عليه السلام</td>\n",
       "      <td>2</td>\n",
       "      <td>47</td>\n",
       "      <td>اسم ملك جاء وحي جبريل سلم</td>\n",
       "    </tr>\n",
       "    <tr>\n",
       "      <th>52</th>\n",
       "      <td>الملك الدي جاء بالوحي هو جبريل .</td>\n",
       "      <td>2</td>\n",
       "      <td>32</td>\n",
       "      <td>ملك الد جاء وحي جبريل</td>\n",
       "    </tr>\n",
       "    <tr>\n",
       "      <th>54</th>\n",
       "      <td>الملك الذي جاء بالوحي إلى رسول الله صلى الله ع...</td>\n",
       "      <td>2</td>\n",
       "      <td>75</td>\n",
       "      <td>ملك جاء وحي رسل الل صلى الل سلم جبريل سلم</td>\n",
       "    </tr>\n",
       "    <tr>\n",
       "      <th>59</th>\n",
       "      <td>الملك جبريل عليه السلام</td>\n",
       "      <td>2</td>\n",
       "      <td>23</td>\n",
       "      <td>ملك جبريل سلم</td>\n",
       "    </tr>\n",
       "    <tr>\n",
       "      <th>63</th>\n",
       "      <td>اسمه جبريل عليه السلام</td>\n",
       "      <td>2</td>\n",
       "      <td>22</td>\n",
       "      <td>اسم جبريل سلم</td>\n",
       "    </tr>\n",
       "  </tbody>\n",
       "</table>\n",
       "</div>"
      ],
      "text/plain": [
       "                                           stu_answer  grade  length  \\\n",
       "0                                                   ز      0       1   \n",
       "1                                             جبرائيل      1       7   \n",
       "2                                               جبريل      2       5   \n",
       "3                                   جبريل عليه السلام      2      17   \n",
       "4                             سيدنا جبريل عليه السلام      2      23   \n",
       "5                                جبريل عليه السلام\\n       2      19   \n",
       "6   إسم الملك الذي جاء بالوحي إلى رسول الله صلى ال...      2      79   \n",
       "19                                        سيدنا جبريل      2      11   \n",
       "20                                جبريل عليه السلام\\n      2      18   \n",
       "21      اسم  الملك المكلف بالوحي هو جبريل عليه السلام      2      45   \n",
       "25                                  جبريل عليه اليلام      2      17   \n",
       "28                                        الملك جبريل      2      11   \n",
       "35                                     _ سيدنا جبريل.      2      14   \n",
       "38                                 إسم الملك هو جبريل      2      18   \n",
       "40                                 جبريل عليه السلام.      2      18   \n",
       "49    أسم  الملك الذي جاء بالوحي هو جبريل عليه السلام      2      47   \n",
       "52                   الملك الدي جاء بالوحي هو جبريل .      2      32   \n",
       "54  الملك الذي جاء بالوحي إلى رسول الله صلى الله ع...      2      75   \n",
       "59                            الملك جبريل عليه السلام      2      23   \n",
       "63                             اسمه جبريل عليه السلام      2      22   \n",
       "\n",
       "                                    answer_cleaned  \n",
       "0                                                   \n",
       "1                                         جبرائيل   \n",
       "2                                           جبريل   \n",
       "3                                       جبريل سلم   \n",
       "4                                   سيد جبريل سلم   \n",
       "5                                       جبريل سلم   \n",
       "6   اسم ملك جاء وحي رسل الل صلى الل سلم جبريل سلم   \n",
       "19                                      سيد جبريل   \n",
       "20                                      جبريل سلم   \n",
       "21                      اسم ملك كلف وحي جبريل سلم   \n",
       "25                                      جبريل يلم   \n",
       "28                                      ملك جبريل   \n",
       "35                                      سيد جبريل   \n",
       "38                                  اسم ملك جبريل   \n",
       "40                                      جبريل سلم   \n",
       "49                      اسم ملك جاء وحي جبريل سلم   \n",
       "52                          ملك الد جاء وحي جبريل   \n",
       "54      ملك جاء وحي رسل الل صلى الل سلم جبريل سلم   \n",
       "59                                  ملك جبريل سلم   \n",
       "63                                  اسم جبريل سلم   "
      ]
     },
     "execution_count": 19,
     "metadata": {},
     "output_type": "execute_result"
    }
   ],
   "source": [
    "df.head(20)"
   ]
  },
  {
   "cell_type": "markdown",
   "id": "0ed32c34",
   "metadata": {},
   "source": [
    "# Text Representation and Build Model"
   ]
  },
  {
   "cell_type": "code",
   "execution_count": 240,
   "id": "f36979e3",
   "metadata": {},
   "outputs": [],
   "source": [
    "max_fatures = 300\n",
    "max_len = 200\n",
    "tokenizer = Tokenizer(num_words=max_fatures, split=' ')\n",
    "tokenizer.fit_on_texts(df['answer_cleaned'].values)\n",
    "X = tokenizer.texts_to_sequences(df['answer_cleaned'].values)\n",
    "X = pad_sequences(X ,max_len )"
   ]
  },
  {
   "cell_type": "code",
   "execution_count": 241,
   "id": "8e9e2496",
   "metadata": {},
   "outputs": [
    {
     "data": {
      "text/plain": [
       "(855, 200)"
      ]
     },
     "execution_count": 241,
     "metadata": {},
     "output_type": "execute_result"
    }
   ],
   "source": [
    "print(f'Number of Rows : {df.shape[0]}')\n",
    "print(f'Number of Columns : {df.shape[1]}')"
   ]
  },
  {
   "cell_type": "code",
   "execution_count": 242,
   "id": "9654342f",
   "metadata": {},
   "outputs": [],
   "source": [
    "y = df['grade']"
   ]
  },
  {
   "cell_type": "code",
   "execution_count": 266,
   "id": "5ae24327",
   "metadata": {},
   "outputs": [],
   "source": [
    "embed_size = 128\n",
    "model = Sequential()\n",
    "model.add(Embedding(max_fatures, embed_size ,input_length = X.shape[1]))\n",
    "model.add(LSTM(200, dropout=0.5, return_sequences=True))\n",
    "model.add(LSTM(100, dropout=0.3))\n",
    "model.add(Dense(100))\n",
    "model.add(Dropout(0.5))\n",
    "model.add(Dense(3, activation='softmax'))\n",
    "model.compile(loss=\"sparse_categorical_crossentropy\", optimizer='adam',metrics = ['accuracy'])"
   ]
  },
  {
   "cell_type": "code",
   "execution_count": 267,
   "id": "b9f70ab9",
   "metadata": {},
   "outputs": [
    {
     "name": "stdout",
     "output_type": "stream",
     "text": [
      "(684, 200)\n",
      "(171, 200)\n"
     ]
    }
   ],
   "source": [
    "X_train, X_test, Y_train, Y_test = train_test_split(X,y, test_size = 0.2, random_state = 42)\n",
    "print(X_train.shape)\n",
    "print(X_test.shape)"
   ]
  },
  {
   "cell_type": "code",
   "execution_count": 268,
   "id": "89cbe9da",
   "metadata": {
    "scrolled": true
   },
   "outputs": [
    {
     "name": "stdout",
     "output_type": "stream",
     "text": [
      "Epoch 1/15\n",
      "11/11 [==============================] - 22s 1s/step - loss: 1.0801 - accuracy: 0.4561\n",
      "Epoch 2/15\n",
      "11/11 [==============================] - 15s 1s/step - loss: 1.0589 - accuracy: 0.4605\n",
      "Epoch 3/15\n",
      "11/11 [==============================] - 17s 2s/step - loss: 1.0138 - accuracy: 0.4795\n",
      "Epoch 4/15\n",
      "11/11 [==============================] - 18s 2s/step - loss: 0.9580 - accuracy: 0.5058\n",
      "Epoch 5/15\n",
      "11/11 [==============================] - 22s 2s/step - loss: 0.8752 - accuracy: 0.5921\n",
      "Epoch 6/15\n",
      "11/11 [==============================] - 20s 2s/step - loss: 0.8038 - accuracy: 0.6491\n",
      "Epoch 7/15\n",
      "11/11 [==============================] - 16s 1s/step - loss: 0.7484 - accuracy: 0.6857\n",
      "Epoch 8/15\n",
      "11/11 [==============================] - 16s 1s/step - loss: 0.6408 - accuracy: 0.7485\n",
      "Epoch 9/15\n",
      "11/11 [==============================] - 16s 1s/step - loss: 0.5855 - accuracy: 0.7602\n",
      "Epoch 10/15\n",
      "11/11 [==============================] - 15s 1s/step - loss: 0.5705 - accuracy: 0.7749\n",
      "Epoch 11/15\n",
      "11/11 [==============================] - 15s 1s/step - loss: 0.5146 - accuracy: 0.7997\n",
      "Epoch 12/15\n",
      "11/11 [==============================] - 16s 1s/step - loss: 0.5031 - accuracy: 0.8070\n",
      "Epoch 13/15\n",
      "11/11 [==============================] - 16s 1s/step - loss: 0.4567 - accuracy: 0.8275\n",
      "Epoch 14/15\n",
      "11/11 [==============================] - 17s 2s/step - loss: 0.4093 - accuracy: 0.8421\n",
      "Epoch 15/15\n",
      "11/11 [==============================] - 17s 1s/step - loss: 0.3916 - accuracy: 0.8596\n"
     ]
    },
    {
     "data": {
      "text/plain": [
       "<keras.callbacks.History at 0x1a65f1b2a90>"
      ]
     },
     "execution_count": 268,
     "metadata": {},
     "output_type": "execute_result"
    }
   ],
   "source": [
    "model.fit(X_train, Y_train, epochs = 15, batch_size = 64, verbose = 1)"
   ]
  },
  {
   "cell_type": "markdown",
   "id": "367ef614",
   "metadata": {},
   "source": [
    "# Evaluate Model"
   ]
  },
  {
   "cell_type": "code",
   "execution_count": 270,
   "id": "a510ad97",
   "metadata": {},
   "outputs": [
    {
     "name": "stdout",
     "output_type": "stream",
     "text": [
      "6/6 - 2s - loss: 0.9795 - accuracy: 0.7076 - 2s/epoch - 329ms/step\n"
     ]
    }
   ],
   "source": [
    "loss , acc = model.evaluate(X_test, Y_test, verbose = 2)"
   ]
  },
  {
   "cell_type": "code",
   "execution_count": 271,
   "id": "757f0e97",
   "metadata": {},
   "outputs": [
    {
     "data": {
      "text/plain": [
       "0.979489803314209"
      ]
     },
     "execution_count": 271,
     "metadata": {},
     "output_type": "execute_result"
    }
   ],
   "source": [
    "loss"
   ]
  },
  {
   "cell_type": "code",
   "execution_count": 272,
   "id": "383377c1",
   "metadata": {},
   "outputs": [
    {
     "data": {
      "text/plain": [
       "0.707602322101593"
      ]
     },
     "execution_count": 272,
     "metadata": {},
     "output_type": "execute_result"
    }
   ],
   "source": [
    "acc"
   ]
  },
  {
   "cell_type": "markdown",
   "id": "0bcea081",
   "metadata": {},
   "source": [
    "# Test Model"
   ]
  },
  {
   "cell_type": "code",
   "execution_count": 297,
   "id": "7c2af933",
   "metadata": {},
   "outputs": [
    {
     "name": "stdout",
     "output_type": "stream",
     "text": [
      "امتحان تربيه دينيه اسلاميه\n",
      "سؤال 1 : كيف كانت الدعوة ؟\n",
      "الاجابه: كانت سرا\n",
      "1/1 [==============================] - 0s 74ms/step\n",
      "Grade of Answer Is : Two\n",
      "Enter Zero To Exit From System  OR One To Run The Program : \n",
      "1\n",
      "امتحان تربيه دينيه اسلاميه\n",
      "سؤال 2 : كيف كانت الدعوة ؟\n",
      "الاجابه: \n",
      "1/1 [==============================] - 0s 189ms/step\n",
      "Grade of Answer Is : Zero\n",
      "Enter Zero To Exit From System  OR One To Run The Program : \n",
      "1\n",
      "امتحان تربيه دينيه اسلاميه\n",
      "سؤال 3 : كيف كانت الدعوة ؟\n",
      "الاجابه: سريه\n",
      "1/1 [==============================] - 0s 215ms/step\n",
      "Grade of Answer Is : Zero\n",
      "Enter Zero To Exit From System  OR One To Run The Program : \n",
      "1\n",
      "امتحان تربيه دينيه اسلاميه\n",
      "سؤال 4 : \n",
      "الاجابه: \n",
      "1/1 [==============================] - 0s 57ms/step\n",
      "Grade of Answer Is : Zero\n",
      "Enter Zero To Exit From System  OR One To Run The Program : \n",
      "1\n",
      "امتحان تربيه دينيه اسلاميه\n",
      "سؤال 5 : كيف كانت الدعوة؟\n",
      "الاجابه: سررا\n",
      "1/1 [==============================] - 0s 213ms/step\n",
      "Grade of Answer Is : Zero\n",
      "Enter Zero To Exit From System  OR One To Run The Program : \n",
      "1\n",
      "امتحان تربيه دينيه اسلاميه\n",
      "سؤال 6 : ما أول ما نزل من القرآن الكريم على سيدنا محمد؟\n",
      "الاجابه: إقرأ سورة العلق\n",
      "1/1 [==============================] - 0s 64ms/step\n",
      "Grade of Answer Is : Two\n",
      "Enter Zero To Exit From System  OR One To Run The Program : \n",
      "1\n",
      "امتحان تربيه دينيه اسلاميه\n",
      "سؤال 7 : ما أول ما نزل من القرآن الكريم على سيدنا محمد؟\n",
      "الاجابه: العليم\n",
      "1/1 [==============================] - 0s 170ms/step\n",
      "Grade of Answer Is : Zero\n",
      "Enter Zero To Exit From System  OR One To Run The Program : \n",
      "1\n",
      "امتحان تربيه دينيه اسلاميه\n",
      "سؤال 8 : كيف واجه سيدنا محمد (ص)إيذاء قومه له؟\n",
      "الاجابه: بصر\n",
      "1/1 [==============================] - 0s 118ms/step\n",
      "Grade of Answer Is : Zero\n",
      "Enter Zero To Exit From System  OR One To Run The Program : \n",
      "1\n",
      "امتحان تربيه دينيه اسلاميه\n",
      "سؤال 9 : واجه سيدنا محمد (ص)إيذاء قومه؟\n",
      "الاجابه: صبرا\n",
      "1/1 [==============================] - 0s 62ms/step\n",
      "Grade of Answer Is : Zero\n",
      "Enter Zero To Exit From System  OR One To Run The Program : \n",
      "1\n",
      "امتحان تربيه دينيه اسلاميه\n",
      "سؤال 10 : واجه سيدنا محمد (ص)إيذاء قومه\n",
      "الاجابه: صبر\n",
      "1/1 [==============================] - 0s 75ms/step\n",
      "Grade of Answer Is : Zero\n",
      "Enter Zero To Exit From System  OR One To Run The Program : \n",
      "1\n",
      "امتحان تربيه دينيه اسلاميه\n",
      "سؤال 11 : له باصبر\n",
      "الاجابه: باصبر\n",
      "1/1 [==============================] - 0s 138ms/step\n",
      "Grade of Answer Is : One\n",
      "Enter Zero To Exit From System  OR One To Run The Program : \n",
      "1\n",
      "امتحان تربيه دينيه اسلاميه\n",
      "سؤال 12 : كيف واجه سيدنا محمد (ص)إيذاء قومه؟\n",
      "الاجابه: باصبر واجهم\n",
      "1/1 [==============================] - 0s 169ms/step\n",
      "Grade of Answer Is : One\n",
      "Enter Zero To Exit From System  OR One To Run The Program : \n",
      "0\n",
      "Exit From System... Thank You\n"
     ]
    }
   ],
   "source": [
    "i=1\n",
    "while True:\n",
    "    print(\"امتحان تربيه دينيه اسلاميه\")\n",
    "    ask = input(f\"سؤال {i} : \")\n",
    "    answer = input('الاجابه: ')\n",
    "    i+=1\n",
    "    process = txt_preprocess(answer)\n",
    "    data = tokenizer.texts_to_sequences([process])\n",
    "    test = pad_sequences(data, maxlen=320,  value=0)\n",
    "    predicted_ques = model.predict(test)[0]\n",
    "\n",
    "    labels=['Zero', 'One', 'Two']\n",
    "    max_prob = np.argmax(predicted_ques)\n",
    "    print(f'Grade of Answer Is : {labels[max_prob]}')\n",
    "    \n",
    "    exit = int(input(\"Enter Zero To Exit From System  OR One To Run The Program : \\n\"))\n",
    "    if exit == 0:\n",
    "        print('Exit From System...','Thank You')\n",
    "        break\n",
    "    else:\n",
    "        continue   \n",
    "        print('\\n')\n"
   ]
  },
  {
   "cell_type": "code",
   "execution_count": null,
   "id": "4eb83e07",
   "metadata": {},
   "outputs": [],
   "source": []
  }
 ],
 "metadata": {
  "kernelspec": {
   "display_name": "Python 3",
   "language": "python",
   "name": "python3"
  },
  "language_info": {
   "codemirror_mode": {
    "name": "ipython",
    "version": 3
   },
   "file_extension": ".py",
   "mimetype": "text/x-python",
   "name": "python",
   "nbconvert_exporter": "python",
   "pygments_lexer": "ipython3",
   "version": "3.8.8"
  }
 },
 "nbformat": 4,
 "nbformat_minor": 5
}
